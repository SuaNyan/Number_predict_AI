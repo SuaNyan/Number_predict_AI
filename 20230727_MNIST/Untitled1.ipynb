{
 "cells": [
  {
   "cell_type": "code",
   "execution_count": 17,
   "id": "7a86848c",
   "metadata": {},
   "outputs": [
    {
     "name": "stderr",
     "output_type": "stream",
     "text": [
      "/opt/homebrew/lib/python3.9/site-packages/sklearn/datasets/_openml.py:968: FutureWarning: The default value of `parser` will change from `'liac-arff'` to `'auto'` in 1.4. You can set `parser='auto'` to silence this warning. Therefore, an `ImportError` will be raised from 1.4 if the dataset is dense and pandas is not installed. Note that the pandas parser may return different data types. See the Notes Section in fetch_openml's API doc for details.\n",
      "  warn(\n"
     ]
    },
    {
     "name": "stdout",
     "output_type": "stream",
     "text": [
      "<class 'numpy.ndarray'>\n",
      "<class 'numpy.ndarray'>\n",
      "Accuracy: 0.9683571428571428\n"
     ]
    }
   ],
   "source": [
    "import numpy as np\n",
    "import matplotlib.pyplot as plt\n",
    "from PIL import Image\n",
    "from sklearn.datasets import fetch_openml\n",
    "from sklearn.model_selection import train_test_split\n",
    "from sklearn.neural_network import MLPClassifier\n",
    "from sklearn.metrics import accuracy_score\n",
    "\n",
    "# MNISTデータセットをダウンロード\n",
    "mnist = fetch_openml('mnist_784', version=1, cache=True, as_frame=False)\n",
    "\n",
    "# 特徴量とラベルを取得\n",
    "X = mnist.data\n",
    "y = mnist.target\n",
    "\n",
    "# データを訓練用とテスト用に分割\n",
    "X_train, X_test, y_train, y_test = train_test_split(X, y, test_size=0.2, random_state=42)\n",
    "print(type(X_train))\n",
    "print(type(y_train))\n",
    "# モデルの構築と訓練\n",
    "model = MLPClassifier(hidden_layer_sizes=(128, 64), max_iter=1000, random_state=42)\n",
    "model.fit(X_train, y_train)\n",
    "\n",
    "# テストデータセットでの予測\n",
    "y_pred = model.predict(X_test)\n",
    "\n",
    "# 正答率の計算\n",
    "accuracy = accuracy_score(y_test, y_pred)\n",
    "print(\"Accuracy:\", accuracy)"
   ]
  },
  {
   "cell_type": "code",
   "execution_count": 21,
   "id": "398d5124",
   "metadata": {},
   "outputs": [
    {
     "name": "stdout",
     "output_type": "stream",
     "text": [
      "Updated Accuracy: 0.9683571428571428\n",
      "[0]\n",
      "<class 'numpy.ndarray'>\n"
     ]
    },
    {
     "data": {
      "image/png": "[encoded data removed]",
      "text/plain": [
       "<Figure size 640x480 with 1 Axes>"
      ]
     },
     "metadata": {},
     "output_type": "display_data"
    },
    {
     "ename": "FileNotFoundError",
     "evalue": "[Errno 2] No such file or directory: 'digits_0-1.png'",
     "output_type": "error",
     "traceback": [
      "\u001b[0;31m---------------------------------------------------------------------------\u001b[0m",
      "\u001b[0;31mFileNotFoundError\u001b[0m                         Traceback (most recent call last)",
      "Cell \u001b[0;32mIn[21], line 41\u001b[0m\n\u001b[1;32m     39\u001b[0m y\u001b[38;5;241m=\u001b[39m\u001b[38;5;241m0\u001b[39m\n\u001b[1;32m     40\u001b[0m \u001b[38;5;28;01mwhile\u001b[39;00m y \u001b[38;5;241m<\u001b[39m \u001b[38;5;241m2\u001b[39m:\n\u001b[0;32m---> 41\u001b[0m    image \u001b[38;5;241m=\u001b[39m \u001b[43mImage\u001b[49m\u001b[38;5;241;43m.\u001b[39;49m\u001b[43mopen\u001b[49m\u001b[43m(\u001b[49m\u001b[38;5;124;43m\"\u001b[39;49m\u001b[38;5;124;43mdigits_\u001b[39;49m\u001b[38;5;124;43m\"\u001b[39;49m\u001b[38;5;241;43m+\u001b[39;49m\u001b[38;5;28;43mstr\u001b[39;49m\u001b[43m(\u001b[49m\u001b[43mi\u001b[49m\u001b[43m)\u001b[49m\u001b[43m \u001b[49m\u001b[38;5;241;43m+\u001b[39;49m\u001b[38;5;124;43m'\u001b[39;49m\u001b[38;5;124;43m-\u001b[39;49m\u001b[38;5;124;43m'\u001b[39;49m\u001b[38;5;241;43m+\u001b[39;49m\u001b[38;5;28;43mstr\u001b[39;49m\u001b[43m(\u001b[49m\u001b[43my\u001b[49m\u001b[43m)\u001b[49m\u001b[38;5;241;43m+\u001b[39;49m\u001b[43m \u001b[49m\u001b[38;5;124;43m'\u001b[39;49m\u001b[38;5;124;43m.png\u001b[39;49m\u001b[38;5;124;43m'\u001b[39;49m\u001b[43m)\u001b[49m\u001b[38;5;241m.\u001b[39mconvert(\u001b[38;5;124m'\u001b[39m\u001b[38;5;124mL\u001b[39m\u001b[38;5;124m'\u001b[39m)  \u001b[38;5;66;03m# 手書き画像のパスを指定して読み込む\u001b[39;00m\n\u001b[1;32m     42\u001b[0m    image \u001b[38;5;241m=\u001b[39m image\u001b[38;5;241m.\u001b[39mresize((\u001b[38;5;241m28\u001b[39m, \u001b[38;5;241m28\u001b[39m))  \u001b[38;5;66;03m# 28x28にリサイズ\u001b[39;00m\n\u001b[1;32m     43\u001b[0m    image \u001b[38;5;241m=\u001b[39m np\u001b[38;5;241m.\u001b[39marray(image)  \u001b[38;5;66;03m# NumPy配列に変換\u001b[39;00m\n",
      "File \u001b[0;32m/opt/homebrew/lib/python3.9/site-packages/PIL/Image.py:3068\u001b[0m, in \u001b[0;36mopen\u001b[0;34m(fp, mode, formats)\u001b[0m\n\u001b[1;32m   3065\u001b[0m     filename \u001b[38;5;241m=\u001b[39m fp\n\u001b[1;32m   3067\u001b[0m \u001b[38;5;28;01mif\u001b[39;00m filename:\n\u001b[0;32m-> 3068\u001b[0m     fp \u001b[38;5;241m=\u001b[39m \u001b[43mbuiltins\u001b[49m\u001b[38;5;241;43m.\u001b[39;49m\u001b[43mopen\u001b[49m\u001b[43m(\u001b[49m\u001b[43mfilename\u001b[49m\u001b[43m,\u001b[49m\u001b[43m \u001b[49m\u001b[38;5;124;43m\"\u001b[39;49m\u001b[38;5;124;43mrb\u001b[39;49m\u001b[38;5;124;43m\"\u001b[39;49m\u001b[43m)\u001b[49m\n\u001b[1;32m   3069\u001b[0m     exclusive_fp \u001b[38;5;241m=\u001b[39m \u001b[38;5;28;01mTrue\u001b[39;00m\n\u001b[1;32m   3071\u001b[0m \u001b[38;5;28;01mtry\u001b[39;00m:\n",
      "\u001b[0;31mFileNotFoundError\u001b[0m: [Errno 2] No such file or directory: 'digits_0-1.png'"
     ]
    }
   ],
   "source": [
    "# 手書き画像の読み込みと前処理\n",
    "i = 1\n",
    "j = 0\n",
    "while i <= 6:\n",
    "    while j <= 9:\n",
    "        image = Image.open('digits' + str(i) + '_' + str(j) +'.PNG').convert('L')  # 手書き画像のパスを指定して読み込む\n",
    "        image = image.resize((28, 28))  # 28x28にリサイズ\n",
    "        image = np.array(image)  # NumPy配列に変換\n",
    "        image = image.reshape(1, -1)  # 1次元の特徴量ベクトルに変換\n",
    "        #image = image / 255.0  # スケーリング (0から1の範囲に正規化)\n",
    "        image = 255.0 - image\n",
    "\n",
    "        # ラベルの作成\n",
    "        label = np.array([j])\n",
    "\n",
    "        # データを追加\n",
    "        X_train = np.vstack((X_train, image))\n",
    "        y_train = np.concatenate((y_train, label))\n",
    "        j += 1\n",
    "    i += 1\n",
    "\n",
    "\n",
    "y_train = np.array(y_train, dtype=int)\n",
    "\n",
    "# 新しい学習データでモデルを再訓練\n",
    "model.fit(X_train, y_train)\n",
    "\n",
    "\n",
    "\n",
    "# 正答率の計算\n",
    "accuracy = accuracy_score(y_test, y_pred)\n",
    "print(\"Updated Accuracy:\", accuracy)\n",
    "\n",
    "# 手書き数字の予測\n",
    "i = 0\n",
    "predictionNum=[]\n",
    "pred = [0,0,1,1,2,2,3,3,4,4,5,5,6,6,7,7,8,8,9,9] #正解ラベル\n",
    "while i <= 9:\n",
    "   y=0\n",
    "   while y < 2:\n",
    "      image = Image.open(\"digits_\"+str(i) +'-'+str(y)+ '.png').convert('L')  # 手書き画像のパスを指定して読み込む\n",
    "      image = image.resize((28, 28))  # 28x28にリサイズ\n",
    "      image = np.array(image)  # NumPy配列に変換\n",
    "      image = image.reshape(1, -1)  # 1次元の特徴量ベクトルに変換\n",
    "      #image = image / 255.0  # スケーリング (0から1の範囲に正規化)\n",
    "      image = 255.0 - image\n",
    "      # モデルによる予測\n",
    "      prediction = model.predict(image)\n",
    "      predictionNum.append(int(prediction[0]))\n",
    "      #testown = np.array([])\n",
    "      #test = np.append(testown,prediction[0])\n",
    "      print(prediction)\n",
    "      print(type(prediction))\n",
    "      y += 1\n",
    "       \n",
    "      # 結果の表示\n",
    "      plt.imshow(image.reshape(28, 28), cmap='gray')\n",
    "      plt.title(\"number:\"+str(i)+\" Predicted Label: \" + str(prediction[0]))\n",
    "      plt.axis('off')\n",
    "      plt.show()\n",
    "   i += 1\n",
    "\n",
    "accuracy = accuracy_score(predictionNum, pred)\n",
    "print(\"Accuracy:\", accuracy)\n",
    "\n"
   ]
  },
  {
   "cell_type": "code",
   "execution_count": null,
   "id": "4b231922",
   "metadata": {},
   "outputs": [],
   "source": []
  }
 ],
 "metadata": {
  "kernelspec": {
   "display_name": "Python 3 (ipykernel)",
   "language": "python",
   "name": "python3"
  },
  "language_info": {
   "codemirror_mode": {
    "name": "ipython",
    "version": 3
   },
   "file_extension": ".py",
   "mimetype": "text/x-python",
   "name": "python",
   "nbconvert_exporter": "python",
   "pygments_lexer": "ipython3",
   "version": "3.9.17"
  }
 },
 "nbformat": 4,
 "nbformat_minor": 5
}
